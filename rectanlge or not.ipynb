{
 "cells": [
  {
   "cell_type": "code",
   "execution_count": 6,
   "id": "57e0ff4e",
   "metadata": {},
   "outputs": [
    {
     "name": "stdout",
     "output_type": "stream",
     "text": [
      "1 0\n"
     ]
    }
   ],
   "source": [
    "from qiskit import *\n",
    "def is_rectangle(a,b,c,d):                                     #function to check if given set of numbers can form rectangle\n",
    "#conversion of input integers to binary form\n",
    "    a_bin= bin(a)\n",
    "    b_bin= bin(b)\n",
    "    c_bin= bin(c)\n",
    "    d_bin= bin(d)\n",
    "#choosing the number of qubits required in a quantum register\n",
    "    n= max(len(a_bin),len(b_bin),len(c_bin),len(d_bin))- 2\n",
    "    check_string = '1'*n  #string consiting of 1's \n",
    "\n",
    "\n",
    "    def check(x,y): #function to check if two numbers are euqal\n",
    "#constructing the quantum circuit\n",
    "        qx = QuantumRegister(n, 'x')\n",
    "        qy = QuantumRegister(n, 'y')\n",
    "        cr = ClassicalRegister(n, 'c')\n",
    "        qc = QuantumCircuit(qx, qy, cr)\n",
    "\n",
    "        for i, bit in enumerate(x):\n",
    "            if bit == '1':\n",
    "                qc.x(qx[n-1-i])\n",
    "        for i, bit in enumerate(y):\n",
    "            if bit == '1':\n",
    "                qc.x(qy[n-1-i])            \n",
    "        for i in range(n):\n",
    "            qc.x(qx[i])\n",
    "            qc.cx(qx[i],qy[i])\n",
    "\n",
    "        qc.measure(qy,cr)   #measuring register containing the second number\n",
    "\n",
    "        sim = Aer.get_backend('qasm_simulator')   #running the circuit on a qasm simulator\n",
    "        result= execute(qc, backend= sim).result()\n",
    "        counts= result.get_counts()\n",
    "        for state in counts:\n",
    "            binary_string = ''\n",
    "            for bit in state:\n",
    "                binary_string += str(bit)\n",
    "        if binary_string == check_string: #comparing measured string with check string\n",
    "            return 1\n",
    "        else:\n",
    "            return 0\n",
    "        \n",
    "#if-else loop containing conditions for the numbers to be a rectangle\n",
    "    if ((check(a_bin[2:n+2],b_bin[2:n+2]) ==1) and (check(c_bin[2:n+2],d_bin[2:n+2]) ==1)):\n",
    "        return 1\n",
    "    elif ((check(a_bin[2:n+2],c_bin[2:n+2]) ==1) and (check(b_bin[2:n+2],d_bin[2:n+2]) ==1)):\n",
    "        return 1\n",
    "    elif ((check(a_bin[2:n+2],d_bin[2:n+2]) ==1) and (check(c_bin[2:n+2],b_bin[2:n+2]) ==1)):\n",
    "        return 1\n",
    "    else:\n",
    "        return 0\n",
    "        \n",
    "        \n",
    "p= is_rectangle(2,3,3,2)\n",
    "q= is_rectangle(4,8,6,4)\n",
    "print( p,q)"
   ]
  }
 ],
 "metadata": {
  "kernelspec": {
   "display_name": "Python 3 (ipykernel)",
   "language": "python",
   "name": "python3"
  },
  "language_info": {
   "codemirror_mode": {
    "name": "ipython",
    "version": 3
   },
   "file_extension": ".py",
   "mimetype": "text/x-python",
   "name": "python",
   "nbconvert_exporter": "python",
   "pygments_lexer": "ipython3",
   "version": "3.9.7"
  }
 },
 "nbformat": 4,
 "nbformat_minor": 5
}
